{
 "cells": [
  {
   "cell_type": "code",
   "id": "initial_id",
   "metadata": {
    "collapsed": true,
    "ExecuteTime": {
     "end_time": "2025-02-16T05:45:40.555999Z",
     "start_time": "2025-02-16T05:45:25.767082Z"
    }
   },
   "source": [
    "import mlflow\n",
    "\n",
    "from sklearn.datasets import load_diabetes\n",
    "from sklearn.model_selection import train_test_split\n",
    "from sklearn.ensemble import RandomForestRegressor\n",
    "\n",
    "print(mlflow.get_tracking_uri())\n",
    "mlflow.set_tracking_uri(\"http://localhost:5000\")\n",
    "mlflow.autolog()\n",
    "\n",
    "data_diabetes = load_diabetes()\n",
    "X_train, X_test, y_train, y_test = train_test_split(data_diabetes.data, data_diabetes.target)\n",
    "\n",
    "#Create and train models\n",
    "reg = RandomForestRegressor(n_estimators=50, max_depth=10, max_features=5)\n",
    "reg.fit(X_train, y_train)\n",
    "#Use the Model to make predictions on the test dataset\n",
    "predictions = reg.predict(X_test)"
   ],
   "outputs": [
    {
     "name": "stderr",
     "output_type": "stream",
     "text": [
      "2025/02/16 14:45:25 INFO mlflow.tracking.fluent: Autologging successfully enabled for sklearn.\n"
     ]
    },
    {
     "name": "stdout",
     "output_type": "stream",
     "text": [
      "file:///C:/Users/dkask/PycharmProjects/PythonProject/DockerFIleZone/mlflow/mlruns\n"
     ]
    },
    {
     "name": "stderr",
     "output_type": "stream",
     "text": [
      "2025/02/16 14:45:28 INFO mlflow.utils.autologging_utils: Created MLflow autologging run with ID '3e39ab7539b04aec9db24e40ea200207', which will track hyperparameters, performance metrics, model artifacts, and lineage information for the current sklearn workflow\n"
     ]
    },
    {
     "name": "stdout",
     "output_type": "stream",
     "text": [
      "🏃 View run sneaky-conch-758 at: http://localhost:5000/#/experiments/0/runs/3e39ab7539b04aec9db24e40ea200207\n",
      "🧪 View experiment at: http://localhost:5000/#/experiments/0\n"
     ]
    }
   ],
   "execution_count": 4
  },
  {
   "metadata": {
    "ExecuteTime": {
     "end_time": "2025-02-16T05:45:42.847358Z",
     "start_time": "2025-02-16T05:45:42.841513Z"
    }
   },
   "cell_type": "code",
   "source": "predictions",
   "id": "8d66d9d62aa6902c",
   "outputs": [
    {
     "data": {
      "text/plain": [
       "array([109.16598302, 161.93588889, 188.39494344, 154.19525641,\n",
       "       262.11947368,  70.39976586, 194.20533333, 170.43228571,\n",
       "        81.75619088, 177.92288406,  95.22464344,  82.22963412,\n",
       "       240.38955043, 162.26      , 251.25122368, 149.16019048,\n",
       "        86.15467904, 162.76425376,  77.59633193, 159.00815451,\n",
       "       202.36204895, 135.27712121, 207.40819839,  88.75695603,\n",
       "       111.66885871, 199.00690476,  78.90877962, 243.24234273,\n",
       "       165.36342857,  93.59356566, 138.44532937,  93.47795897,\n",
       "       118.35847999, 171.52455081, 198.55520445, 150.46687239,\n",
       "       102.41945455, 160.86493494, 161.73574194, 178.35466667,\n",
       "       144.66505195, 122.18240146, 115.80576399, 198.91247619,\n",
       "        82.42145628,  74.99561657, 235.898     , 158.70268821,\n",
       "       169.86375925, 146.22372719, 176.3187381 , 163.20324966,\n",
       "       130.63046465, 114.45948557, 130.39069231, 171.82940842,\n",
       "        78.23012583, 191.68377778,  97.71435746, 250.77095238,\n",
       "       159.12553147, 217.79066667, 219.04757251,  92.98085727,\n",
       "       119.34531924, 211.49940952, 147.02977778, 189.92746491,\n",
       "       129.43450034,  75.79270971, 223.36649542,  97.46834702,\n",
       "       115.59546258, 159.07921739, 112.25906371, 106.23970176,\n",
       "       215.79935354, 109.60807585, 107.63661386, 166.13428571,\n",
       "       102.38276955, 103.44316442,  96.62407988, 216.42333333,\n",
       "       167.84153846, 163.198     , 101.04533477, 136.63756828,\n",
       "       187.31245298, 219.70451813, 160.82616618,  77.44431465,\n",
       "       218.92866683, 196.32225397, 172.1516402 , 192.12987446,\n",
       "        85.30506656, 217.52805195,  79.3531621 , 184.5489031 ,\n",
       "       185.69035464,  90.62530772, 107.02752698, 186.25      ,\n",
       "       119.73466089, 221.08684242, 102.45316453,  77.29740614,\n",
       "       211.58066667, 231.48882965,  91.48343121])"
      ]
     },
     "execution_count": 5,
     "metadata": {},
     "output_type": "execute_result"
    }
   ],
   "execution_count": 5
  }
 ],
 "metadata": {
  "kernelspec": {
   "display_name": "Python 3",
   "language": "python",
   "name": "python3"
  },
  "language_info": {
   "codemirror_mode": {
    "name": "ipython",
    "version": 2
   },
   "file_extension": ".py",
   "mimetype": "text/x-python",
   "name": "python",
   "nbconvert_exporter": "python",
   "pygments_lexer": "ipython2",
   "version": "2.7.6"
  }
 },
 "nbformat": 4,
 "nbformat_minor": 5
}
